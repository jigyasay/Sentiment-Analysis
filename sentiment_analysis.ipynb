{
  "nbformat": 4,
  "nbformat_minor": 0,
  "metadata": {
    "colab": {
      "provenance": [],
      "authorship_tag": "ABX9TyNzXu/NpjM3WutVat19duDP",
      "include_colab_link": true
    },
    "kernelspec": {
      "name": "python3",
      "display_name": "Python 3"
    },
    "language_info": {
      "name": "python"
    }
  },
  "cells": [
    {
      "cell_type": "markdown",
      "metadata": {
        "id": "view-in-github",
        "colab_type": "text"
      },
      "source": [
        "<a href=\"https://colab.research.google.com/github/jigyasay/Sentiment-Analysis/blob/main/sentiment_analysis.ipynb\" target=\"_parent\"><img src=\"https://colab.research.google.com/assets/colab-badge.svg\" alt=\"Open In Colab\"/></a>"
      ]
    },
    {
      "cell_type": "code",
      "execution_count": 1,
      "metadata": {
        "colab": {
          "base_uri": "https://localhost:8080/"
        },
        "id": "6lgeki_wBW2p",
        "outputId": "2a5853bb-f7ca-4809-8931-72caa65fb820"
      },
      "outputs": [
        {
          "output_type": "stream",
          "name": "stderr",
          "text": [
            "[nltk_data] Downloading package movie_reviews to /root/nltk_data...\n",
            "[nltk_data]   Unzipping corpora/movie_reviews.zip.\n"
          ]
        },
        {
          "output_type": "stream",
          "name": "stdout",
          "text": [
            "Logistic Regression Accuracy: 0.8075\n",
            "SVM Accuracy: 0.8425\n",
            "Multinomial NB Accuracy: 0.7850\n",
            "\n",
            "Best model: SVM with accuracy 0.8425\n"
          ]
        }
      ],
      "source": [
        "import nltk\n",
        "from nltk.corpus import movie_reviews\n",
        "import random\n",
        "import numpy as np\n",
        "from sklearn.feature_extraction.text import TfidfVectorizer\n",
        "from sklearn.model_selection import train_test_split, GridSearchCV\n",
        "from sklearn.pipeline import Pipeline\n",
        "from sklearn.linear_model import LogisticRegression\n",
        "from sklearn.naive_bayes import MultinomialNB\n",
        "from sklearn.svm import LinearSVC\n",
        "from sklearn.metrics import accuracy_score\n",
        "\n",
        "\n",
        "nltk.download('movie_reviews')\n",
        "\n",
        "\n",
        "documents = [(movie_reviews.raw(fileid), category)\n",
        "             for category in movie_reviews.categories()\n",
        "             for fileid in movie_reviews.fileids(category)]\n",
        "random.shuffle(documents)\n",
        "\n",
        "texts, labels = zip(*documents)\n",
        "\n",
        "\n",
        "X_train, X_test, y_train, y_test = train_test_split(texts, labels, test_size=0.2, random_state=42)\n",
        "\n",
        "\n",
        "pipelines = {\n",
        "    \"Logistic Regression\": Pipeline([\n",
        "        ('tfidf', TfidfVectorizer(stop_words='english', max_df=0.7)),\n",
        "        ('clf', LogisticRegression(max_iter=1000))\n",
        "    ]),\n",
        "    \"SVM\": Pipeline([\n",
        "        ('tfidf', TfidfVectorizer(stop_words='english', max_df=0.7)),\n",
        "        ('clf', LinearSVC())\n",
        "    ]),\n",
        "    \"Multinomial NB\": Pipeline([\n",
        "        ('tfidf', TfidfVectorizer(stop_words='english', max_df=0.7)),\n",
        "        ('clf', MultinomialNB())\n",
        "    ])\n",
        "}\n",
        "\n",
        "\n",
        "best_model = None\n",
        "best_score = 0\n",
        "best_name = \"\"\n",
        "\n",
        "for name, pipeline in pipelines.items():\n",
        "    pipeline.fit(X_train, y_train)\n",
        "    preds = pipeline.predict(X_test)\n",
        "    acc = accuracy_score(y_test, preds)\n",
        "    print(f\"{name} Accuracy: {acc:.4f}\")\n",
        "    if acc > best_score:\n",
        "        best_score = acc\n",
        "        best_model = pipeline\n",
        "        best_name = name\n",
        "\n",
        "print(f\"\\nBest model: {best_name} with accuracy {best_score:.4f}\")\n"
      ]
    },
    {
      "cell_type": "code",
      "source": [],
      "metadata": {
        "id": "GfKlXeTJBZ0a"
      },
      "execution_count": null,
      "outputs": []
    }
  ]
}